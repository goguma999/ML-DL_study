{
 "cells": [
  {
   "cell_type": "markdown",
   "id": "c2c6c8e5-c76a-4dda-bd0e-b58abd3ee1fe",
   "metadata": {},
   "source": [
    "## 필기체 데이터를 분류하는 CNN 신경망"
   ]
  },
  {
   "cell_type": "code",
   "execution_count": 11,
   "id": "1062c61b-3a72-4765-a384-60a50a41d63a",
   "metadata": {},
   "outputs": [],
   "source": [
    "#1. 필요한 패키지 가져오기\n",
    "import tensorflow as tf\n",
    "from tensorflow.keras.datasets.mnist import load_data\n",
    "from tensorflow.keras.models import Sequential\n",
    "from tensorflow.keras.layers import Dense, Conv2D, MaxPooling2D, Flatten\n",
    "from tensorflow.keras.utils import to_categorical "
   ]
  },
  {
   "cell_type": "code",
   "execution_count": 25,
   "id": "9a98d073-631f-464e-9bb4-86a3c8f59eb5",
   "metadata": {},
   "outputs": [
    {
     "name": "stdout",
     "output_type": "stream",
     "text": [
      "(60000, 28, 28)\n",
      "(10000, 28, 28)\n"
     ]
    }
   ],
   "source": [
    "tf.random.set_seed(777)\n",
    "(x_train, y_train), (x_test, y_test) = load_data(path='mnist.npz')\n",
    "print(x_train.shape)  # (60000, 28, 28)\n",
    "print(x_test.shape)   # (10000, 28, 28)"
   ]
  },
  {
   "cell_type": "code",
   "execution_count": 27,
   "id": "b52cf240-37a6-47de-9cd5-8f63945c4e6c",
   "metadata": {},
   "outputs": [
    {
     "name": "stdout",
     "output_type": "stream",
     "text": [
      "(60000, 28, 28, 1)\n",
      "(10000, 28, 28, 1)\n"
     ]
    }
   ],
   "source": [
    "# 위의 데이터에는 색조를 나타내는 차원이 없음. \n",
    "# 색조 차원 추가 reshape \n",
    "x_train = x_train.reshape(-1, 28, 28, 1)\n",
    "x_test = x_test.reshape(-1, 28, 28, 1) \n",
    "print(x_train.shape)  # (60000, 28, 28, 1)\n",
    "print(x_test.shape)   # (10000, 28, 28, 1)"
   ]
  },
  {
   "cell_type": "code",
   "execution_count": 29,
   "id": "4c94d367-ef1f-45fa-8aa5-0cb9e716ca71",
   "metadata": {},
   "outputs": [],
   "source": [
    "#2. 정규화 진행\n",
    "x_train = x_train / 255\n",
    "x_test = x_test / 255 "
   ]
  },
  {
   "cell_type": "code",
   "execution_count": 31,
   "id": "c038a575-7854-4eb3-9c12-0e8dab404d01",
   "metadata": {},
   "outputs": [],
   "source": [
    "#3. 정답 데이터 준비\n",
    "# 하나의 숫자를 One hot encoding : 4 --> 0 0 0 0 1 0 0 0 0 0 \n",
    "y_train = to_categorical(y_train)\n",
    "y_test = to_categorical(y_test)"
   ]
  },
  {
   "cell_type": "markdown",
   "id": "b9106ef6-7204-4a47-af8a-12d446875390",
   "metadata": {},
   "source": [
    "### model 1"
   ]
  },
  {
   "cell_type": "code",
   "execution_count": 37,
   "id": "af9ec8c2-9c79-4575-82ba-945d0c996f61",
   "metadata": {
    "scrolled": true
   },
   "outputs": [
    {
     "name": "stdout",
     "output_type": "stream",
     "text": [
      "Epoch 1/30\n",
      "\u001b[1m600/600\u001b[0m \u001b[32m━━━━━━━━━━━━━━━━━━━━\u001b[0m\u001b[37m\u001b[0m \u001b[1m26s\u001b[0m 43ms/step - acc: 0.1121 - loss: 2.3632 - val_acc: 0.2112 - val_loss: 2.2731\n",
      "Epoch 2/30\n",
      "\u001b[1m600/600\u001b[0m \u001b[32m━━━━━━━━━━━━━━━━━━━━\u001b[0m\u001b[37m\u001b[0m \u001b[1m28s\u001b[0m 46ms/step - acc: 0.2704 - loss: 2.2540 - val_acc: 0.5025 - val_loss: 2.1484\n",
      "Epoch 3/30\n",
      "\u001b[1m600/600\u001b[0m \u001b[32m━━━━━━━━━━━━━━━━━━━━\u001b[0m\u001b[37m\u001b[0m \u001b[1m31s\u001b[0m 52ms/step - acc: 0.5118 - loss: 2.0739 - val_acc: 0.6599 - val_loss: 1.7903\n",
      "Epoch 4/30\n",
      "\u001b[1m600/600\u001b[0m \u001b[32m━━━━━━━━━━━━━━━━━━━━\u001b[0m\u001b[37m\u001b[0m \u001b[1m31s\u001b[0m 52ms/step - acc: 0.6618 - loss: 1.6929 - val_acc: 0.7476 - val_loss: 1.3991\n",
      "Epoch 5/30\n",
      "\u001b[1m600/600\u001b[0m \u001b[32m━━━━━━━━━━━━━━━━━━━━\u001b[0m\u001b[37m\u001b[0m \u001b[1m26s\u001b[0m 43ms/step - acc: 0.7561 - loss: 1.3196 - val_acc: 0.8154 - val_loss: 1.0882\n",
      "Epoch 6/30\n",
      "\u001b[1m600/600\u001b[0m \u001b[32m━━━━━━━━━━━━━━━━━━━━\u001b[0m\u001b[37m\u001b[0m \u001b[1m25s\u001b[0m 42ms/step - acc: 0.8148 - loss: 1.0328 - val_acc: 0.8474 - val_loss: 0.8687\n",
      "Epoch 7/30\n",
      "\u001b[1m600/600\u001b[0m \u001b[32m━━━━━━━━━━━━━━━━━━━━\u001b[0m\u001b[37m\u001b[0m \u001b[1m26s\u001b[0m 43ms/step - acc: 0.8465 - loss: 0.8333 - val_acc: 0.8695 - val_loss: 0.7177\n",
      "Epoch 8/30\n",
      "\u001b[1m600/600\u001b[0m \u001b[32m━━━━━━━━━━━━━━━━━━━━\u001b[0m\u001b[37m\u001b[0m \u001b[1m27s\u001b[0m 44ms/step - acc: 0.8655 - loss: 0.6964 - val_acc: 0.8807 - val_loss: 0.6132\n",
      "Epoch 9/30\n",
      "\u001b[1m600/600\u001b[0m \u001b[32m━━━━━━━━━━━━━━━━━━━━\u001b[0m\u001b[37m\u001b[0m \u001b[1m26s\u001b[0m 44ms/step - acc: 0.8769 - loss: 0.6015 - val_acc: 0.8901 - val_loss: 0.5399\n",
      "Epoch 10/30\n",
      "\u001b[1m600/600\u001b[0m \u001b[32m━━━━━━━━━━━━━━━━━━━━\u001b[0m\u001b[37m\u001b[0m \u001b[1m28s\u001b[0m 47ms/step - acc: 0.8835 - loss: 0.5342 - val_acc: 0.8941 - val_loss: 0.4869\n",
      "Epoch 11/30\n",
      "\u001b[1m600/600\u001b[0m \u001b[32m━━━━━━━━━━━━━━━━━━━━\u001b[0m\u001b[37m\u001b[0m \u001b[1m25s\u001b[0m 42ms/step - acc: 0.8891 - loss: 0.4850 - val_acc: 0.8973 - val_loss: 0.4470\n",
      "Epoch 12/30\n",
      "\u001b[1m600/600\u001b[0m \u001b[32m━━━━━━━━━━━━━━━━━━━━\u001b[0m\u001b[37m\u001b[0m \u001b[1m26s\u001b[0m 44ms/step - acc: 0.8938 - loss: 0.4476 - val_acc: 0.9025 - val_loss: 0.4157\n",
      "Epoch 13/30\n",
      "\u001b[1m600/600\u001b[0m \u001b[32m━━━━━━━━━━━━━━━━━━━━\u001b[0m\u001b[37m\u001b[0m \u001b[1m26s\u001b[0m 44ms/step - acc: 0.8980 - loss: 0.4179 - val_acc: 0.9072 - val_loss: 0.3903\n",
      "Epoch 14/30\n",
      "\u001b[1m600/600\u001b[0m \u001b[32m━━━━━━━━━━━━━━━━━━━━\u001b[0m\u001b[37m\u001b[0m \u001b[1m28s\u001b[0m 46ms/step - acc: 0.9022 - loss: 0.3935 - val_acc: 0.9092 - val_loss: 0.3689\n",
      "Epoch 15/30\n",
      "\u001b[1m600/600\u001b[0m \u001b[32m━━━━━━━━━━━━━━━━━━━━\u001b[0m\u001b[37m\u001b[0m \u001b[1m29s\u001b[0m 49ms/step - acc: 0.9053 - loss: 0.3730 - val_acc: 0.9123 - val_loss: 0.3507\n",
      "Epoch 16/30\n",
      "\u001b[1m600/600\u001b[0m \u001b[32m━━━━━━━━━━━━━━━━━━━━\u001b[0m\u001b[37m\u001b[0m \u001b[1m27s\u001b[0m 45ms/step - acc: 0.9089 - loss: 0.3552 - val_acc: 0.9168 - val_loss: 0.3348\n",
      "Epoch 17/30\n",
      "\u001b[1m600/600\u001b[0m \u001b[32m━━━━━━━━━━━━━━━━━━━━\u001b[0m\u001b[37m\u001b[0m \u001b[1m28s\u001b[0m 47ms/step - acc: 0.9117 - loss: 0.3397 - val_acc: 0.9192 - val_loss: 0.3209\n",
      "Epoch 18/30\n",
      "\u001b[1m600/600\u001b[0m \u001b[32m━━━━━━━━━━━━━━━━━━━━\u001b[0m\u001b[37m\u001b[0m \u001b[1m29s\u001b[0m 48ms/step - acc: 0.9147 - loss: 0.3257 - val_acc: 0.9210 - val_loss: 0.3085\n",
      "Epoch 19/30\n",
      "\u001b[1m600/600\u001b[0m \u001b[32m━━━━━━━━━━━━━━━━━━━━\u001b[0m\u001b[37m\u001b[0m \u001b[1m31s\u001b[0m 51ms/step - acc: 0.9178 - loss: 0.3132 - val_acc: 0.9233 - val_loss: 0.2974\n",
      "Epoch 20/30\n",
      "\u001b[1m600/600\u001b[0m \u001b[32m━━━━━━━━━━━━━━━━━━━━\u001b[0m\u001b[37m\u001b[0m \u001b[1m32s\u001b[0m 54ms/step - acc: 0.9205 - loss: 0.3018 - val_acc: 0.9254 - val_loss: 0.2873\n",
      "Epoch 21/30\n",
      "\u001b[1m600/600\u001b[0m \u001b[32m━━━━━━━━━━━━━━━━━━━━\u001b[0m\u001b[37m\u001b[0m \u001b[1m36s\u001b[0m 59ms/step - acc: 0.9231 - loss: 0.2914 - val_acc: 0.9291 - val_loss: 0.2782\n",
      "Epoch 22/30\n",
      "\u001b[1m600/600\u001b[0m \u001b[32m━━━━━━━━━━━━━━━━━━━━\u001b[0m\u001b[37m\u001b[0m \u001b[1m34s\u001b[0m 57ms/step - acc: 0.9256 - loss: 0.2818 - val_acc: 0.9308 - val_loss: 0.2698\n",
      "Epoch 23/30\n",
      "\u001b[1m600/600\u001b[0m \u001b[32m━━━━━━━━━━━━━━━━━━━━\u001b[0m\u001b[37m\u001b[0m \u001b[1m34s\u001b[0m 57ms/step - acc: 0.9277 - loss: 0.2730 - val_acc: 0.9320 - val_loss: 0.2620\n",
      "Epoch 24/30\n",
      "\u001b[1m600/600\u001b[0m \u001b[32m━━━━━━━━━━━━━━━━━━━━\u001b[0m\u001b[37m\u001b[0m \u001b[1m33s\u001b[0m 54ms/step - acc: 0.9299 - loss: 0.2647 - val_acc: 0.9331 - val_loss: 0.2548\n",
      "Epoch 25/30\n",
      "\u001b[1m600/600\u001b[0m \u001b[32m━━━━━━━━━━━━━━━━━━━━\u001b[0m\u001b[37m\u001b[0m \u001b[1m31s\u001b[0m 51ms/step - acc: 0.9325 - loss: 0.2569 - val_acc: 0.9346 - val_loss: 0.2479\n",
      "Epoch 26/30\n",
      "\u001b[1m600/600\u001b[0m \u001b[32m━━━━━━━━━━━━━━━━━━━━\u001b[0m\u001b[37m\u001b[0m \u001b[1m28s\u001b[0m 47ms/step - acc: 0.9346 - loss: 0.2495 - val_acc: 0.9362 - val_loss: 0.2414\n",
      "Epoch 27/30\n",
      "\u001b[1m600/600\u001b[0m \u001b[32m━━━━━━━━━━━━━━━━━━━━\u001b[0m\u001b[37m\u001b[0m \u001b[1m30s\u001b[0m 50ms/step - acc: 0.9364 - loss: 0.2425 - val_acc: 0.9376 - val_loss: 0.2351\n",
      "Epoch 28/30\n",
      "\u001b[1m600/600\u001b[0m \u001b[32m━━━━━━━━━━━━━━━━━━━━\u001b[0m\u001b[37m\u001b[0m \u001b[1m29s\u001b[0m 48ms/step - acc: 0.9383 - loss: 0.2358 - val_acc: 0.9393 - val_loss: 0.2292\n",
      "Epoch 29/30\n",
      "\u001b[1m600/600\u001b[0m \u001b[32m━━━━━━━━━━━━━━━━━━━━\u001b[0m\u001b[37m\u001b[0m \u001b[1m26s\u001b[0m 44ms/step - acc: 0.9399 - loss: 0.2295 - val_acc: 0.9410 - val_loss: 0.2236\n",
      "Epoch 30/30\n",
      "\u001b[1m600/600\u001b[0m \u001b[32m━━━━━━━━━━━━━━━━━━━━\u001b[0m\u001b[37m\u001b[0m \u001b[1m27s\u001b[0m 45ms/step - acc: 0.9413 - loss: 0.2234 - val_acc: 0.9425 - val_loss: 0.2181\n"
     ]
    }
   ],
   "source": [
    "#4. 3층 신경망 첫 번째 모델 구성 : SGD \n",
    "model = Sequential()\n",
    "model.add(Conv2D(100, kernel_size=(5,5), input_shape=(28,28,1), padding='same',activation='relu'))\n",
    "model.add(MaxPooling2D(pool_size=(2,2), padding='same'))\n",
    "model.add(Flatten())\n",
    "model.add(Dense(50, activation = 'sigmoid', input_shape = (784, )))\n",
    "model.add(Dense(50, activation = 'sigmoid'))\n",
    "model.add(Dense(10, activation = 'softmax'))\n",
    "\n",
    "#5. 모델을 설정 (경사하강법, 오차함수)\n",
    "model.compile(optimizer = 'SGD',\n",
    "              loss = 'categorical_crossentropy',\n",
    "              metrics = ['acc'])\n",
    "\n",
    "# 6. 모델 훈련\n",
    "history = model.fit(x_train, y_train,\n",
    "                    epochs = 30,\n",
    "                    batch_size = 100,\n",
    "                    validation_data = (x_test, y_test)\n",
    "                   )"
   ]
  },
  {
   "cell_type": "code",
   "execution_count": 43,
   "id": "09da0eed-b612-4d00-adaf-b889bb901d96",
   "metadata": {},
   "outputs": [
    {
     "name": "stdout",
     "output_type": "stream",
     "text": [
      "\u001b[1m313/313\u001b[0m \u001b[32m━━━━━━━━━━━━━━━━━━━━\u001b[0m\u001b[37m\u001b[0m \u001b[1m1s\u001b[0m 5ms/step - acc: 0.9346 - loss: 0.2425\n"
     ]
    },
    {
     "data": {
      "image/png": "[encoded data removed]",
      "text/plain": [
       "<Figure size 640x480 with 1 Axes>"
      ]
     },
     "metadata": {},
     "output_type": "display_data"
    }
   ],
   "source": [
    "#7. 첫 번째 모델 평가 \n",
    "model.evaluate(x_test, y_test)\n",
    "train_acc_list = history.history['acc']\n",
    "train_acc_list\n",
    "\n",
    "test_acc_list = history.history['val_acc']\n",
    "test_acc_list\n",
    "\n",
    "import numpy as np\n",
    "import matplotlib.pyplot as plt\n",
    "\n",
    "x = np.arange(len(train_acc_list))\n",
    "plt.plot(x, train_acc_list, label='train acc')\n",
    "plt.plot(x, test_acc_list, label='test acc', linestyle='--')\n",
    "plt.ylim(0,1)\n",
    "plt.legend(loc='lower right')\n",
    "plt.xlabel('epochs')\n",
    "plt.ylabel('accuracy')\n",
    "plt.show()"
   ]
  },
  {
   "cell_type": "markdown",
   "id": "09403068-2da0-4643-b868-b01ad2d59d55",
   "metadata": {},
   "source": [
    "## model 2"
   ]
  },
  {
   "cell_type": "code",
   "execution_count": 51,
   "id": "64dc17d0-39ee-4dcf-adb6-a5c44a9f59e3",
   "metadata": {
    "scrolled": true
   },
   "outputs": [
    {
     "name": "stdout",
     "output_type": "stream",
     "text": [
      "Epoch 1/30\n",
      "\u001b[1m600/600\u001b[0m \u001b[32m━━━━━━━━━━━━━━━━━━━━\u001b[0m\u001b[37m\u001b[0m \u001b[1m70s\u001b[0m 115ms/step - acc: 0.8501 - loss: 0.5386 - val_acc: 0.9662 - val_loss: 0.1528\n",
      "Epoch 2/30\n",
      "\u001b[1m600/600\u001b[0m \u001b[32m━━━━━━━━━━━━━━━━━━━━\u001b[0m\u001b[37m\u001b[0m \u001b[1m74s\u001b[0m 124ms/step - acc: 0.9626 - loss: 0.1516 - val_acc: 0.9815 - val_loss: 0.0591\n",
      "Epoch 3/30\n",
      "\u001b[1m600/600\u001b[0m \u001b[32m━━━━━━━━━━━━━━━━━━━━\u001b[0m\u001b[37m\u001b[0m \u001b[1m74s\u001b[0m 124ms/step - acc: 0.9718 - loss: 0.1083 - val_acc: 0.9832 - val_loss: 0.0513\n",
      "Epoch 4/30\n",
      "\u001b[1m600/600\u001b[0m \u001b[32m━━━━━━━━━━━━━━━━━━━━\u001b[0m\u001b[37m\u001b[0m \u001b[1m69s\u001b[0m 116ms/step - acc: 0.9778 - loss: 0.0876 - val_acc: 0.9859 - val_loss: 0.0437\n",
      "Epoch 5/30\n",
      "\u001b[1m600/600\u001b[0m \u001b[32m━━━━━━━━━━━━━━━━━━━━\u001b[0m\u001b[37m\u001b[0m \u001b[1m74s\u001b[0m 123ms/step - acc: 0.9803 - loss: 0.0750 - val_acc: 0.9860 - val_loss: 0.0412\n",
      "Epoch 6/30\n",
      "\u001b[1m600/600\u001b[0m \u001b[32m━━━━━━━━━━━━━━━━━━━━\u001b[0m\u001b[37m\u001b[0m \u001b[1m71s\u001b[0m 119ms/step - acc: 0.9813 - loss: 0.0677 - val_acc: 0.9856 - val_loss: 0.0424\n",
      "Epoch 7/30\n",
      "\u001b[1m600/600\u001b[0m \u001b[32m━━━━━━━━━━━━━━━━━━━━\u001b[0m\u001b[37m\u001b[0m \u001b[1m71s\u001b[0m 118ms/step - acc: 0.9841 - loss: 0.0607 - val_acc: 0.9883 - val_loss: 0.0353\n",
      "Epoch 8/30\n",
      "\u001b[1m600/600\u001b[0m \u001b[32m━━━━━━━━━━━━━━━━━━━━\u001b[0m\u001b[37m\u001b[0m \u001b[1m67s\u001b[0m 112ms/step - acc: 0.9850 - loss: 0.0559 - val_acc: 0.9871 - val_loss: 0.0371\n",
      "Epoch 9/30\n",
      "\u001b[1m600/600\u001b[0m \u001b[32m━━━━━━━━━━━━━━━━━━━━\u001b[0m\u001b[37m\u001b[0m \u001b[1m67s\u001b[0m 111ms/step - acc: 0.9866 - loss: 0.0495 - val_acc: 0.9900 - val_loss: 0.0326\n",
      "Epoch 10/30\n",
      "\u001b[1m600/600\u001b[0m \u001b[32m━━━━━━━━━━━━━━━━━━━━\u001b[0m\u001b[37m\u001b[0m \u001b[1m81s\u001b[0m 135ms/step - acc: 0.9868 - loss: 0.0480 - val_acc: 0.9881 - val_loss: 0.0342\n",
      "Epoch 11/30\n",
      "\u001b[1m600/600\u001b[0m \u001b[32m━━━━━━━━━━━━━━━━━━━━\u001b[0m\u001b[37m\u001b[0m \u001b[1m83s\u001b[0m 138ms/step - acc: 0.9887 - loss: 0.0433 - val_acc: 0.9896 - val_loss: 0.0324\n",
      "Epoch 12/30\n",
      "\u001b[1m600/600\u001b[0m \u001b[32m━━━━━━━━━━━━━━━━━━━━\u001b[0m\u001b[37m\u001b[0m \u001b[1m74s\u001b[0m 123ms/step - acc: 0.9885 - loss: 0.0409 - val_acc: 0.9896 - val_loss: 0.0306\n",
      "Epoch 13/30\n",
      "\u001b[1m600/600\u001b[0m \u001b[32m━━━━━━━━━━━━━━━━━━━━\u001b[0m\u001b[37m\u001b[0m \u001b[1m77s\u001b[0m 128ms/step - acc: 0.9898 - loss: 0.0383 - val_acc: 0.9884 - val_loss: 0.0355\n",
      "Epoch 14/30\n",
      "\u001b[1m600/600\u001b[0m \u001b[32m━━━━━━━━━━━━━━━━━━━━\u001b[0m\u001b[37m\u001b[0m \u001b[1m84s\u001b[0m 140ms/step - acc: 0.9893 - loss: 0.0361 - val_acc: 0.9898 - val_loss: 0.0313\n",
      "Epoch 15/30\n",
      "\u001b[1m600/600\u001b[0m \u001b[32m━━━━━━━━━━━━━━━━━━━━\u001b[0m\u001b[37m\u001b[0m \u001b[1m79s\u001b[0m 131ms/step - acc: 0.9921 - loss: 0.0325 - val_acc: 0.9904 - val_loss: 0.0303\n",
      "Epoch 16/30\n",
      "\u001b[1m600/600\u001b[0m \u001b[32m━━━━━━━━━━━━━━━━━━━━\u001b[0m\u001b[37m\u001b[0m \u001b[1m78s\u001b[0m 131ms/step - acc: 0.9917 - loss: 0.0313 - val_acc: 0.9904 - val_loss: 0.0307\n",
      "Epoch 17/30\n",
      "\u001b[1m600/600\u001b[0m \u001b[32m━━━━━━━━━━━━━━━━━━━━\u001b[0m\u001b[37m\u001b[0m \u001b[1m70s\u001b[0m 117ms/step - acc: 0.9912 - loss: 0.0314 - val_acc: 0.9892 - val_loss: 0.0324\n",
      "Epoch 18/30\n",
      "\u001b[1m600/600\u001b[0m \u001b[32m━━━━━━━━━━━━━━━━━━━━\u001b[0m\u001b[37m\u001b[0m \u001b[1m72s\u001b[0m 119ms/step - acc: 0.9917 - loss: 0.0305 - val_acc: 0.9896 - val_loss: 0.0319\n",
      "Epoch 19/30\n",
      "\u001b[1m600/600\u001b[0m \u001b[32m━━━━━━━━━━━━━━━━━━━━\u001b[0m\u001b[37m\u001b[0m \u001b[1m77s\u001b[0m 128ms/step - acc: 0.9926 - loss: 0.0277 - val_acc: 0.9919 - val_loss: 0.0269\n",
      "Epoch 20/30\n",
      "\u001b[1m600/600\u001b[0m \u001b[32m━━━━━━━━━━━━━━━━━━━━\u001b[0m\u001b[37m\u001b[0m \u001b[1m76s\u001b[0m 127ms/step - acc: 0.9922 - loss: 0.0274 - val_acc: 0.9912 - val_loss: 0.0279\n",
      "Epoch 21/30\n",
      "\u001b[1m600/600\u001b[0m \u001b[32m━━━━━━━━━━━━━━━━━━━━\u001b[0m\u001b[37m\u001b[0m \u001b[1m75s\u001b[0m 124ms/step - acc: 0.9927 - loss: 0.0252 - val_acc: 0.9902 - val_loss: 0.0289\n",
      "Epoch 22/30\n",
      "\u001b[1m600/600\u001b[0m \u001b[32m━━━━━━━━━━━━━━━━━━━━\u001b[0m\u001b[37m\u001b[0m \u001b[1m75s\u001b[0m 125ms/step - acc: 0.9933 - loss: 0.0237 - val_acc: 0.9915 - val_loss: 0.0270\n",
      "Epoch 23/30\n",
      "\u001b[1m600/600\u001b[0m \u001b[32m━━━━━━━━━━━━━━━━━━━━\u001b[0m\u001b[37m\u001b[0m \u001b[1m76s\u001b[0m 127ms/step - acc: 0.9937 - loss: 0.0222 - val_acc: 0.9903 - val_loss: 0.0293\n",
      "Epoch 24/30\n",
      "\u001b[1m600/600\u001b[0m \u001b[32m━━━━━━━━━━━━━━━━━━━━\u001b[0m\u001b[37m\u001b[0m \u001b[1m82s\u001b[0m 137ms/step - acc: 0.9938 - loss: 0.0220 - val_acc: 0.9910 - val_loss: 0.0272\n"
     ]
    }
   ],
   "source": [
    "#1. 필요한 패키지 가져오기\n",
    "import tensorflow as tf\n",
    "from tensorflow.keras.datasets.mnist import load_data\n",
    "from tensorflow.keras.models import Sequential\n",
    "from tensorflow.keras.layers import Dense, Conv2D, MaxPooling2D, Flatten, BatchNormalization, Dropout\n",
    "from tensorflow.keras.utils import to_categorical \n",
    "from tensorflow.keras.callbacks import EarlyStopping \n",
    "\n",
    "tf.random.set_seed(777)\n",
    "(x_train, y_train), (x_test, y_test) = load_data(path='mnist.npz')\n",
    "# print(x_train.shape)  # (60000, 28, 28)\n",
    "# print(x_test.shape)   # (10000, 28, 28)\n",
    "\n",
    "# 위의 데이터에는 색조를 나타내는 차원이 없음. \n",
    "# 색조 차원 추가 reshape \n",
    "x_train = x_train.reshape(-1, 28, 28, 1)\n",
    "x_test = x_test.reshape(-1, 28, 28, 1) \n",
    "# print(x_train.shape)  # (60000, 28, 28, 1)\n",
    "# print(x_test.shape)   # (10000, 28, 28, 1)\n",
    "\n",
    "#2. 정규화 진행\n",
    "x_train = x_train / 255\n",
    "x_test = x_test / 255 \n",
    "\n",
    "#3. 정답 데이터 준비\n",
    "# 하나의 숫자를 One hot encoding : 4 --> 0 0 0 0 1 0 0 0 0 0 \n",
    "y_train = to_categorical(y_train)\n",
    "y_test = to_categorical(y_test)\n",
    "\n",
    "#4. 3층 신경망 두 번째 모델 구성 : SGD, 배치정규화, 드롭아웃 \n",
    "model2 = Sequential()\n",
    "model2.add(Conv2D(100, kernel_size=(5,5), input_shape=(28,28,1), padding='same',activation='relu'))\n",
    "model2.add(BatchNormalization())\n",
    "model2.add(MaxPooling2D(pool_size=(2,2), padding='same'))\n",
    "model2.add(Dropout(0.25))\n",
    "\n",
    "# 완전 연결 계층 \n",
    "model2.add(Flatten())\n",
    "model2.add(Dense(50, activation = 'sigmoid', input_shape = (784, )))\n",
    "model2.add(BatchNormalization())\n",
    "model2.add(Dropout(0.25))\n",
    "\n",
    "model2.add(Dense(50, activation = 'sigmoid'))\n",
    "model2.add(BatchNormalization())\n",
    "model2.add(Dropout(0.25))\n",
    "\n",
    "model2.add(Dense(10, activation = 'softmax'))\n",
    "\n",
    "#5. 두 번째 모델을 설정 (경사하강법, 오차함수)\n",
    "model2.compile(optimizer = 'SGD',\n",
    "              loss = 'categorical_crossentropy',\n",
    "              metrics = ['acc'])\n",
    "\n",
    "early_stopping = EarlyStopping(monitor='val_loss', patience=5, restore_best_weights=True)\n",
    "\n",
    "#6. 두 번째 모델 훈련\n",
    "history = model2.fit(x_train, y_train,\n",
    "                    epochs = 30,\n",
    "                    batch_size = 100,\n",
    "                    validation_data = (x_test, y_test),\n",
    "                    callbacks = [early_stopping]\n",
    "                   )"
   ]
  },
  {
   "cell_type": "code",
   "execution_count": 53,
   "id": "9548e273-1b24-42ec-bccd-1a6520d8564e",
   "metadata": {},
   "outputs": [
    {
     "name": "stdout",
     "output_type": "stream",
     "text": [
      "\u001b[1m313/313\u001b[0m \u001b[32m━━━━━━━━━━━━━━━━━━━━\u001b[0m\u001b[37m\u001b[0m \u001b[1m2s\u001b[0m 7ms/step - acc: 0.9894 - loss: 0.0341\n"
     ]
    },
    {
     "data": {
      "image/png": "[encoded data removed]",
      "text/plain": [
       "<Figure size 640x480 with 1 Axes>"
      ]
     },
     "metadata": {},
     "output_type": "display_data"
    }
   ],
   "source": [
    "# 7. 모델 평가\n",
    "model2.evaluate(x_test, y_test)\n",
    "\n",
    "train_acc_list = history.history['acc']\n",
    "test_acc_list = history.history['val_acc']\n",
    "\n",
    "import matplotlib.pyplot as plt\n",
    "import numpy as np\n",
    "x = np.arange(len(train_acc_list))\n",
    "plt.plot(x, train_acc_list, label='train acc')\n",
    "plt.plot(x, test_acc_list, label='test acc', linestyle='--')\n",
    "plt.ylim(0, 1)\n",
    "plt.legend(loc='lower right')\n",
    "plt.xlabel('epochs')\n",
    "plt.ylabel('accuracy')\n",
    "plt.show()"
   ]
  },
  {
   "cell_type": "code",
   "execution_count": null,
   "id": "4c0b6a6c-b10e-431f-98f7-c8e260f380b4",
   "metadata": {},
   "outputs": [],
   "source": []
  }
 ],
 "metadata": {
  "kernelspec": {
   "display_name": "Python 3 (ipykernel)",
   "language": "python",
   "name": "python3"
  },
  "language_info": {
   "codemirror_mode": {
    "name": "ipython",
    "version": 3
   },
   "file_extension": ".py",
   "mimetype": "text/x-python",
   "name": "python",
   "nbconvert_exporter": "python",
   "pygments_lexer": "ipython3",
   "version": "3.12.8"
  }
 },
 "nbformat": 4,
 "nbformat_minor": 5
}
